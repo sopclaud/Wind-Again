{
 "cells": [
  {
   "cell_type": "code",
   "execution_count": 1,
   "id": "f48349fb",
   "metadata": {},
   "outputs": [],
   "source": [
    "import os"
   ]
  },
  {
   "cell_type": "code",
   "execution_count": 2,
   "id": "fc3d4a85",
   "metadata": {},
   "outputs": [],
   "source": [
    "vwd = os.getcwd()"
   ]
  },
  {
   "cell_type": "code",
   "execution_count": 3,
   "id": "15a47f46",
   "metadata": {},
   "outputs": [
    {
     "data": {
      "text/plain": [
       "'C:\\\\Users\\\\Usuario\\\\Saved Games'"
      ]
     },
     "execution_count": 3,
     "metadata": {},
     "output_type": "execute_result"
    }
   ],
   "source": [
    "vwd"
   ]
  },
  {
   "cell_type": "code",
   "execution_count": 4,
   "id": "88fae4ea",
   "metadata": {},
   "outputs": [],
   "source": [
    "vom_t = mkdir(\"croon\")"
   ]
  },
  {
   "cell_type": "code",
   "execution_count": 5,
   "id": "9ac2c5c1",
   "metadata": {},
   "outputs": [
    {
     "ename": "NameError",
     "evalue": "name 'vom_t' is not defined",
     "output_type": "error",
     "traceback": [
      "\u001b[1;31m---------------------------------------------------------------------------\u001b[0m",
      "\u001b[1;31mNameError\u001b[0m                                 Traceback (most recent call last)",
      "Cell \u001b[1;32mIn[5], line 1\u001b[0m\n\u001b[1;32m----> 1\u001b[0m \u001b[38;5;28mprint\u001b[39m(\u001b[43mvom_t\u001b[49m)\n",
      "\u001b[1;31mNameError\u001b[0m: name 'vom_t' is not defined"
     ]
    }
   ],
   "source": [
    "print(vom_t)"
   ]
  },
  {
   "cell_type": "code",
   "execution_count": 7,
   "id": "31bbe281",
   "metadata": {},
   "outputs": [
    {
     "data": {
      "text/plain": [
       "['(Ghost)',\n",
       " '.ipynb_checkpoints',\n",
       " 'desktop.ini',\n",
       " 'Gamefun',\n",
       " 'Godfather',\n",
       " 'ojb',\n",
       " 'oputa',\n",
       " 'Os.ipynb',\n",
       " 'Untitled.ipynb',\n",
       " 'Untitled1.ipynb']"
      ]
     },
     "execution_count": 7,
     "metadata": {},
     "output_type": "execute_result"
    }
   ],
   "source": [
    "os.listdir()"
   ]
  },
  {
   "cell_type": "code",
   "execution_count": 9,
   "id": "9919fbd1",
   "metadata": {},
   "outputs": [
    {
     "data": {
      "text/plain": [
       "['(Ghost)',\n",
       " '.ipynb_checkpoints',\n",
       " 'desktop.ini',\n",
       " 'Gamefun',\n",
       " 'Godfather',\n",
       " 'ojb',\n",
       " 'oputa',\n",
       " 'Os.ipynb',\n",
       " 'Untitled.ipynb',\n",
       " 'Untitled1.ipynb']"
      ]
     },
     "execution_count": 9,
     "metadata": {},
     "output_type": "execute_result"
    }
   ],
   "source": [
    "os.listdir(r\"C:\\Users\\Usuario\\Saved Games\")"
   ]
  },
  {
   "cell_type": "code",
   "execution_count": 10,
   "id": "549b2b6f",
   "metadata": {},
   "outputs": [
    {
     "data": {
      "text/plain": [
       "['(Ghost)',\n",
       " '.ipynb_checkpoints',\n",
       " 'desktop.ini',\n",
       " 'Gamefun',\n",
       " 'Godfather',\n",
       " 'ojb',\n",
       " 'oputa',\n",
       " 'Os.ipynb',\n",
       " 'Untitled.ipynb',\n",
       " 'Untitled1.ipynb']"
      ]
     },
     "execution_count": 10,
     "metadata": {},
     "output_type": "execute_result"
    }
   ],
   "source": [
    "os.listdir(r\"C:\\Users\\Usuario\\Saved Games\")"
   ]
  },
  {
   "cell_type": "code",
   "execution_count": 14,
   "id": "31ce5505",
   "metadata": {},
   "outputs": [
    {
     "name": "stdout",
     "output_type": "stream",
     "text": [
      "Donald Ukpanyang.pic.jpg\n",
      "Greater Karu Urban Area vs 1.png\n"
     ]
    }
   ],
   "source": [
    "var_1 = r\"C:\\Users\\Usuario\\Saved Games\\Godfather\"\n",
    "for i in os.listdir(var_1):\n",
    "    print(i)\n",
    "    print(os.path.join(var_1,))\n",
    "        "
   ]
  },
  {
   "cell_type": "code",
   "execution_count": null,
   "id": "87a2e1fe",
   "metadata": {},
   "outputs": [],
   "source": []
  }
 ],
 "metadata": {
  "kernelspec": {
   "display_name": "Python 3 (ipykernel)",
   "language": "python",
   "name": "python3"
  },
  "language_info": {
   "codemirror_mode": {
    "name": "ipython",
    "version": 3
   },
   "file_extension": ".py",
   "mimetype": "text/x-python",
   "name": "python",
   "nbconvert_exporter": "python",
   "pygments_lexer": "ipython3",
   "version": "3.10.11"
  }
 },
 "nbformat": 4,
 "nbformat_minor": 5
}
